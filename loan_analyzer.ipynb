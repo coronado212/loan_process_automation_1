{
 "cells": [
  {
   "cell_type": "code",
   "execution_count": 2,
   "metadata": {},
   "outputs": [],
   "source": [
    "import csv\n",
    "from pathlib import Path"
   ]
  },
  {
   "cell_type": "code",
   "execution_count": 28,
   "metadata": {},
   "outputs": [],
   "source": [
    "# Part 1: Automate the Calculations\n",
    "\n",
    "# First, let's start with some calculations on a list of prices for 5 loans.\n",
    "#    1. Use the `len` function to calculate the total number of loans in the list.\n",
    "#    2. Use the `sum` function to calculate the total of all loans in the list.\n",
    "#    3. Using the sum of all loans and the total number of loans, calculate the average loan price.\n",
    "#    4. Print all calculations with descriptive messages.\n",
    "\n",
    "loan_costs = [500, 600, 200, 1000, 450]"
   ]
  },
  {
   "cell_type": "code",
   "execution_count": 29,
   "metadata": {},
   "outputs": [
    {
     "name": "stdout",
     "output_type": "stream",
     "text": [
      "There are 5 total loans.\n"
     ]
    }
   ],
   "source": [
    "# How many loans are in the list?\n",
    "# Print the number of loans from the list\n",
    "number_of_loans = len(loan_costs)\n",
    "print(f\"There are {number_of_loans} total loans.\")"
   ]
  },
  {
   "cell_type": "code",
   "execution_count": 30,
   "metadata": {},
   "outputs": [
    {
     "name": "stdout",
     "output_type": "stream",
     "text": [
      "The total value of loans is 2750.\n"
     ]
    }
   ],
   "source": [
    "# What is the total of all loans?\n",
    "# Print the total value of the loans\n",
    "value_of_loans = sum(loan_costs)\n",
    "print(f\"The total value of loans is {value_of_loans}.\")"
   ]
  },
  {
   "cell_type": "code",
   "execution_count": 31,
   "metadata": {},
   "outputs": [
    {
     "name": "stdout",
     "output_type": "stream",
     "text": [
      "The average loan amount is  550.\n"
     ]
    }
   ],
   "source": [
    "# What is the average loan amount from the list?\n",
    "# Print the average loan amount\n",
    "average_loan_amount = value_of_loans / number_of_loans\n",
    "print(f\"The average loan amount is {average_loan_amount: .0f}.\")"
   ]
  },
  {
   "cell_type": "code",
   "execution_count": 7,
   "metadata": {},
   "outputs": [],
   "source": [
    "# Part 2: Analyze Loan Data -  Determine the investment evaluation\n",
    "\n",
    "# 1. Extract the Future Value and Remaining Months on the loan.\n",
    "\n",
    "# 2. Calculate a \"fair value\" of the loan. Use a minimum required return of 20% as the discount rate.\n",
    "\n",
    "# 3. Write a conditional statement to decide if the present value represents the loan's fair value."
   ]
  },
  {
   "cell_type": "code",
   "execution_count": 32,
   "metadata": {},
   "outputs": [],
   "source": [
    "# Loan Data\n",
    "loan = {\n",
    "    \"loan_price\": 500,\n",
    "    \"remaining_months\": 9,\n",
    "    \"repayment_interval\": \"bullet\",\n",
    "    \"future_value\": 1000,\n",
    "\n",
    "}"
   ]
  },
  {
   "cell_type": "code",
   "execution_count": 33,
   "metadata": {},
   "outputs": [
    {
     "name": "stdout",
     "output_type": "stream",
     "text": [
      "The future value of the loan is 1000\n",
      "There are 9 months remaining on the loan\n"
     ]
    }
   ],
   "source": [
    "# Use get() to extract the Future Value and Remaining Months on the loan.\n",
    "future_value = loan.get(\"future_value\")\n",
    "print(f\"The future value of the loan is {future_value}\")\n",
    "remaining_months = loan.get(\"remaining_months\")\n",
    "print(f\"There are {remaining_months} months remaining on the loan\")"
   ]
  },
  {
   "cell_type": "code",
   "execution_count": 35,
   "metadata": {},
   "outputs": [
    {
     "name": "stdout",
     "output_type": "stream",
     "text": [
      "The present value of the loan is  861.77\n"
     ]
    }
   ],
   "source": [
    "# Use the formula for Present Value to calculate a \"fair value\" of the loan with a minimum required return of 20% as the discount rate.\n",
    "# Present Value = Future Value / (1 + Discount_Rate/12) ** remaining_months\n",
    "\n",
    "present_value = future_value / (1 + .20/12) ** remaining_months\n",
    "print(f\"The present value of the loan is {present_value: .2f}\")"
   ]
  },
  {
   "cell_type": "code",
   "execution_count": 36,
   "metadata": {},
   "outputs": [
    {
     "name": "stdout",
     "output_type": "stream",
     "text": [
      "This loan is a good buy!\n"
     ]
    }
   ],
   "source": [
    "# Write a conditional statement (an if-else statement) to decide if the present value represents the loan's fair value.\n",
    "\n",
    "if present_value >= loan.get(\"loan_price\"):\n",
    "    print(\"This loan is a good buy!\"),\n",
    "else:\n",
    "    print(\"This loan is too expensive and not worth the price\")"
   ]
  },
  {
   "cell_type": "code",
   "execution_count": 12,
   "metadata": {},
   "outputs": [],
   "source": [
    "# Part 3: Perform Financial Calculations.\n",
    "\n",
    "# 1. Define a new function that will be used to calculate present value.\n",
    "# 2. Use the function to calculate the present value of the new loan given below."
   ]
  },
  {
   "cell_type": "code",
   "execution_count": 37,
   "metadata": {},
   "outputs": [],
   "source": [
    "# Given the following loan data, you will need to calculate the present value for the loan\n",
    "new_loan = {\n",
    "    \"loan_price\": 800,\n",
    "    \"remaining_months\": 12,\n",
    "    \"repayment_interval\": \"bullet\",\n",
    "    \"future_value\": 1000,\n",
    "}"
   ]
  },
  {
   "cell_type": "code",
   "execution_count": 38,
   "metadata": {},
   "outputs": [],
   "source": [
    "# Define a new function that will be used to calculate present value.\n",
    "def calculate_present_value(future_value, remaining_months, annual_discount_rate):\n",
    "    present_value = (future_value / (1 + .20/12) ** remaining_months)\n",
    "    return present_value"
   ]
  },
  {
   "cell_type": "code",
   "execution_count": 39,
   "metadata": {},
   "outputs": [
    {
     "name": "stdout",
     "output_type": "stream",
     "text": [
      "The present value of the loan is:  820.08\n"
     ]
    }
   ],
   "source": [
    "# Use the function to calculate the present value of the new loan given below.\n",
    "\n",
    "future_value = 1000\n",
    "remaining_months = 12\n",
    "annual_discount_rate = 0.2\n",
    "\n",
    "present_value = calculate_present_value(future_value, remaining_months, annual_discount_rate)\n",
    "\n",
    "print(f\"The present value of the loan is: {present_value: .2f}\")"
   ]
  },
  {
   "cell_type": "code",
   "execution_count": 16,
   "metadata": {},
   "outputs": [],
   "source": [
    "# Part 4: Conditionally filter lists of loans\n",
    "\n",
    "# Use a loop to iterate through a series of loans and select only the inexpensive loans.\n",
    "\n",
    "# 1. Create a new, empty list called `inexpensive_loans`.\n",
    "# 2. Use a for loop to select each loan from a list of loans.\n",
    "#    a. Inside the for loop, write an if-statement to determine if the loan_price is less than 500\n",
    "#    b. If the loan_price is less than 500 then append that loan to the `inexpensive_loans` list.\n",
    "# 3. Print the list of inexpensive_loans."
   ]
  },
  {
   "cell_type": "code",
   "execution_count": 40,
   "metadata": {},
   "outputs": [],
   "source": [
    "loans = [\n",
    "    {\n",
    "        \"loan_price\": 700,\n",
    "        \"remaining_months\": 9,\n",
    "        \"repayment_interval\": \"monthly\",\n",
    "        \"future_value\": 1000,\n",
    "    },\n",
    "    {\n",
    "        \"loan_price\": 500,\n",
    "        \"remaining_months\": 13,\n",
    "        \"repayment_interval\": \"bullet\",\n",
    "        \"future_value\": 1000,\n",
    "    },\n",
    "    {\n",
    "        \"loan_price\": 200,\n",
    "        \"remaining_months\": 16,\n",
    "        \"repayment_interval\": \"bullet\",\n",
    "        \"future_value\": 1000,\n",
    "    },\n",
    "    {\n",
    "        \"loan_price\": 900,\n",
    "        \"remaining_months\": 16,\n",
    "        \"repayment_interval\": \"bullet\",\n",
    "        \"future_value\": 1000,\n",
    "    },\n",
    "]"
   ]
  },
  {
   "cell_type": "code",
   "execution_count": 41,
   "metadata": {},
   "outputs": [
    {
     "name": "stdout",
     "output_type": "stream",
     "text": [
      "{'loan_price': 700, 'remaining_months': 9, 'repayment_interval': 'monthly', 'future_value': 1000}\n",
      "{'loan_price': 500, 'remaining_months': 13, 'repayment_interval': 'bullet', 'future_value': 1000}\n",
      "{'loan_price': 200, 'remaining_months': 16, 'repayment_interval': 'bullet', 'future_value': 1000}\n",
      "{'loan_price': 900, 'remaining_months': 16, 'repayment_interval': 'bullet', 'future_value': 1000}\n"
     ]
    }
   ],
   "source": [
    "# Print each loan\n",
    "for loan in loans:\n",
    "    print(loan)"
   ]
  },
  {
   "cell_type": "code",
   "execution_count": 42,
   "metadata": {},
   "outputs": [
    {
     "name": "stdout",
     "output_type": "stream",
     "text": [
      "700\n",
      "500\n",
      "200\n",
      "900\n"
     ]
    }
   ],
   "source": [
    "# Print loan price of each loan\n",
    "for loan in loans:\n",
    "    print(loan[\"loan_price\"])"
   ]
  },
  {
   "cell_type": "code",
   "execution_count": 43,
   "metadata": {},
   "outputs": [],
   "source": [
    "# Create an empty list called `inexpensive_loans`\n",
    "inexpensive_loans = []"
   ]
  },
  {
   "cell_type": "code",
   "execution_count": 44,
   "metadata": {},
   "outputs": [
    {
     "name": "stdout",
     "output_type": "stream",
     "text": [
      "[{'loan_price': 500, 'remaining_months': 13, 'repayment_interval': 'bullet', 'future_value': 1000}, {'loan_price': 200, 'remaining_months': 16, 'repayment_interval': 'bullet', 'future_value': 1000}]\n"
     ]
    }
   ],
   "source": [
    "# Loop through all the loans and append any that cost $500 or less to the `inexpensive_loans` list    \n",
    "for loan in loans:\n",
    "    if loan[\"loan_price\"] <= 500:\n",
    "        inexpensive_loans.append(loan)\n",
    "print(inexpensive_loans)"
   ]
  },
  {
   "cell_type": "code",
   "execution_count": 22,
   "metadata": {},
   "outputs": [],
   "source": [
    "# Part 5: Save the results - Output this list of inexpensive loans to a csv file"
   ]
  },
  {
   "cell_type": "code",
   "execution_count": 45,
   "metadata": {},
   "outputs": [],
   "source": [
    "# Set the output header\n",
    "header = [\"loan_price\", \"remaining_months\", \"repayment_interval\", \"future_value\"]"
   ]
  },
  {
   "cell_type": "code",
   "execution_count": 46,
   "metadata": {},
   "outputs": [],
   "source": [
    "# Set the output file path\n",
    "output_path = Path(\"inexpensive_loans.csv\")"
   ]
  },
  {
   "cell_type": "code",
   "execution_count": 47,
   "metadata": {},
   "outputs": [],
   "source": [
    "# Use the csv library and `csv.writer` to write the header row and each row of `loan.values()` from the `inexpensive_loans` list.\n",
    "with open(output_path, 'w', newline='') as csvfile:\n",
    "    csvwriter = csv.writer(csvfile)\n",
    "    csvwriter.writerow(header)\n",
    "    for row in loans:\n",
    "        csvwriter.writerow(row.values())"
   ]
  },
  {
   "cell_type": "code",
   "execution_count": null,
   "metadata": {},
   "outputs": [],
   "source": []
  }
 ],
 "metadata": {
  "kernelspec": {
   "display_name": "Python 3",
   "language": "python",
   "name": "python3"
  },
  "language_info": {
   "codemirror_mode": {
    "name": "ipython",
    "version": 3
   },
   "file_extension": ".py",
   "mimetype": "text/x-python",
   "name": "python",
   "nbconvert_exporter": "python",
   "pygments_lexer": "ipython3",
   "version": "3.7.9"
  }
 },
 "nbformat": 4,
 "nbformat_minor": 4
}
